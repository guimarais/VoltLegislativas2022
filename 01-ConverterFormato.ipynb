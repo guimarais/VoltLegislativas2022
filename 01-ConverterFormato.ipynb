{
 "cells": [
  {
   "cell_type": "code",
   "execution_count": 28,
   "id": "meaningful-structure",
   "metadata": {},
   "outputs": [],
   "source": [
    "import pandas as pd"
   ]
  },
  {
   "cell_type": "code",
   "execution_count": 29,
   "id": "casual-mining",
   "metadata": {},
   "outputs": [],
   "source": [
    "df = pd.read_csv('Listas_Volt2022.csv')"
   ]
  },
  {
   "cell_type": "code",
   "execution_count": 30,
   "id": "responsible-bonus",
   "metadata": {},
   "outputs": [
    {
     "data": {
      "text/html": [
       "<div>\n",
       "<style scoped>\n",
       "    .dataframe tbody tr th:only-of-type {\n",
       "        vertical-align: middle;\n",
       "    }\n",
       "\n",
       "    .dataframe tbody tr th {\n",
       "        vertical-align: top;\n",
       "    }\n",
       "\n",
       "    .dataframe thead th {\n",
       "        text-align: right;\n",
       "    }\n",
       "</style>\n",
       "<table border=\"1\" class=\"dataframe\">\n",
       "  <thead>\n",
       "    <tr style=\"text-align: right;\">\n",
       "      <th></th>\n",
       "      <th>Nome</th>\n",
       "      <th>Membro</th>\n",
       "      <th>Circulo</th>\n",
       "      <th>Suplente</th>\n",
       "      <th>Lugar</th>\n",
       "    </tr>\n",
       "  </thead>\n",
       "  <tbody>\n",
       "    <tr>\n",
       "      <th>0</th>\n",
       "      <td>Tiago Matos Gomes</td>\n",
       "      <td>PT0001</td>\n",
       "      <td>Lisboa</td>\n",
       "      <td>False</td>\n",
       "      <td>1</td>\n",
       "    </tr>\n",
       "    <tr>\n",
       "      <th>1</th>\n",
       "      <td>Ana Carvalho</td>\n",
       "      <td>PT0003</td>\n",
       "      <td>Lisboa</td>\n",
       "      <td>False</td>\n",
       "      <td>2</td>\n",
       "    </tr>\n",
       "    <tr>\n",
       "      <th>2</th>\n",
       "      <td>Miguel Macedo</td>\n",
       "      <td>PT0129</td>\n",
       "      <td>Lisboa</td>\n",
       "      <td>False</td>\n",
       "      <td>3</td>\n",
       "    </tr>\n",
       "    <tr>\n",
       "      <th>3</th>\n",
       "      <td>Rebeca Gradíssimo</td>\n",
       "      <td>PT0010</td>\n",
       "      <td>Lisboa</td>\n",
       "      <td>False</td>\n",
       "      <td>4</td>\n",
       "    </tr>\n",
       "    <tr>\n",
       "      <th>4</th>\n",
       "      <td>Vitor Moreira</td>\n",
       "      <td>PT0112</td>\n",
       "      <td>Lisboa</td>\n",
       "      <td>False</td>\n",
       "      <td>5</td>\n",
       "    </tr>\n",
       "  </tbody>\n",
       "</table>\n",
       "</div>"
      ],
      "text/plain": [
       "                Nome  Membro Circulo  Suplente  Lugar\n",
       "0  Tiago Matos Gomes  PT0001  Lisboa     False      1\n",
       "1       Ana Carvalho  PT0003  Lisboa     False      2\n",
       "2      Miguel Macedo  PT0129  Lisboa     False      3\n",
       "3  Rebeca Gradíssimo  PT0010  Lisboa     False      4\n",
       "4      Vitor Moreira  PT0112  Lisboa     False      5"
      ]
     },
     "execution_count": 30,
     "metadata": {},
     "output_type": "execute_result"
    }
   ],
   "source": [
    "df.head()"
   ]
  },
  {
   "cell_type": "code",
   "execution_count": 31,
   "id": "literary-gauge",
   "metadata": {},
   "outputs": [],
   "source": [
    "df['partido'] = 'Volt'"
   ]
  },
  {
   "cell_type": "code",
   "execution_count": 32,
   "id": "different-apple",
   "metadata": {},
   "outputs": [],
   "source": [
    "df1 = df[['Circulo', 'partido', 'Nome', 'Suplente']].copy(deep=True)"
   ]
  },
  {
   "cell_type": "code",
   "execution_count": 33,
   "id": "favorite-utilization",
   "metadata": {},
   "outputs": [
    {
     "data": {
      "text/html": [
       "<div>\n",
       "<style scoped>\n",
       "    .dataframe tbody tr th:only-of-type {\n",
       "        vertical-align: middle;\n",
       "    }\n",
       "\n",
       "    .dataframe tbody tr th {\n",
       "        vertical-align: top;\n",
       "    }\n",
       "\n",
       "    .dataframe thead th {\n",
       "        text-align: right;\n",
       "    }\n",
       "</style>\n",
       "<table border=\"1\" class=\"dataframe\">\n",
       "  <thead>\n",
       "    <tr style=\"text-align: right;\">\n",
       "      <th></th>\n",
       "      <th>Circulo</th>\n",
       "      <th>partido</th>\n",
       "      <th>Nome</th>\n",
       "      <th>Suplente</th>\n",
       "    </tr>\n",
       "  </thead>\n",
       "  <tbody>\n",
       "    <tr>\n",
       "      <th>0</th>\n",
       "      <td>Lisboa</td>\n",
       "      <td>Volt</td>\n",
       "      <td>Tiago Matos Gomes</td>\n",
       "      <td>False</td>\n",
       "    </tr>\n",
       "    <tr>\n",
       "      <th>1</th>\n",
       "      <td>Lisboa</td>\n",
       "      <td>Volt</td>\n",
       "      <td>Ana Carvalho</td>\n",
       "      <td>False</td>\n",
       "    </tr>\n",
       "    <tr>\n",
       "      <th>2</th>\n",
       "      <td>Lisboa</td>\n",
       "      <td>Volt</td>\n",
       "      <td>Miguel Macedo</td>\n",
       "      <td>False</td>\n",
       "    </tr>\n",
       "    <tr>\n",
       "      <th>3</th>\n",
       "      <td>Lisboa</td>\n",
       "      <td>Volt</td>\n",
       "      <td>Rebeca Gradíssimo</td>\n",
       "      <td>False</td>\n",
       "    </tr>\n",
       "    <tr>\n",
       "      <th>4</th>\n",
       "      <td>Lisboa</td>\n",
       "      <td>Volt</td>\n",
       "      <td>Vitor Moreira</td>\n",
       "      <td>False</td>\n",
       "    </tr>\n",
       "  </tbody>\n",
       "</table>\n",
       "</div>"
      ],
      "text/plain": [
       "  Circulo partido               Nome  Suplente\n",
       "0  Lisboa    Volt  Tiago Matos Gomes     False\n",
       "1  Lisboa    Volt       Ana Carvalho     False\n",
       "2  Lisboa    Volt      Miguel Macedo     False\n",
       "3  Lisboa    Volt  Rebeca Gradíssimo     False\n",
       "4  Lisboa    Volt      Vitor Moreira     False"
      ]
     },
     "execution_count": 33,
     "metadata": {},
     "output_type": "execute_result"
    }
   ],
   "source": [
    "df1.head()"
   ]
  },
  {
   "cell_type": "code",
   "execution_count": 34,
   "id": "sharp-march",
   "metadata": {},
   "outputs": [],
   "source": [
    "df1.rename(columns={\"Circulo\":\"circulo\", \"Nome\":\"nome\", \"Suplente\":\"tipo\"}, inplace=True)"
   ]
  },
  {
   "cell_type": "code",
   "execution_count": 35,
   "id": "immune-manor",
   "metadata": {},
   "outputs": [],
   "source": [
    "df1['tipo'] = df1['tipo'].astype('str')"
   ]
  },
  {
   "cell_type": "code",
   "execution_count": 36,
   "id": "certified-navigation",
   "metadata": {},
   "outputs": [],
   "source": [
    "df1.replace({'False':'efetivo', 'True':'suplente'}, regex=True, inplace=True)"
   ]
  },
  {
   "cell_type": "code",
   "execution_count": 37,
   "id": "filled-turtle",
   "metadata": {},
   "outputs": [
    {
     "data": {
      "text/html": [
       "<div>\n",
       "<style scoped>\n",
       "    .dataframe tbody tr th:only-of-type {\n",
       "        vertical-align: middle;\n",
       "    }\n",
       "\n",
       "    .dataframe tbody tr th {\n",
       "        vertical-align: top;\n",
       "    }\n",
       "\n",
       "    .dataframe thead th {\n",
       "        text-align: right;\n",
       "    }\n",
       "</style>\n",
       "<table border=\"1\" class=\"dataframe\">\n",
       "  <thead>\n",
       "    <tr style=\"text-align: right;\">\n",
       "      <th></th>\n",
       "      <th>circulo</th>\n",
       "      <th>partido</th>\n",
       "      <th>nome</th>\n",
       "      <th>tipo</th>\n",
       "    </tr>\n",
       "  </thead>\n",
       "  <tbody>\n",
       "    <tr>\n",
       "      <th>0</th>\n",
       "      <td>Lisboa</td>\n",
       "      <td>Volt</td>\n",
       "      <td>Tiago Matos Gomes</td>\n",
       "      <td>efetivo</td>\n",
       "    </tr>\n",
       "    <tr>\n",
       "      <th>1</th>\n",
       "      <td>Lisboa</td>\n",
       "      <td>Volt</td>\n",
       "      <td>Ana Carvalho</td>\n",
       "      <td>efetivo</td>\n",
       "    </tr>\n",
       "    <tr>\n",
       "      <th>2</th>\n",
       "      <td>Lisboa</td>\n",
       "      <td>Volt</td>\n",
       "      <td>Miguel Macedo</td>\n",
       "      <td>efetivo</td>\n",
       "    </tr>\n",
       "    <tr>\n",
       "      <th>3</th>\n",
       "      <td>Lisboa</td>\n",
       "      <td>Volt</td>\n",
       "      <td>Rebeca Gradíssimo</td>\n",
       "      <td>efetivo</td>\n",
       "    </tr>\n",
       "    <tr>\n",
       "      <th>4</th>\n",
       "      <td>Lisboa</td>\n",
       "      <td>Volt</td>\n",
       "      <td>Vitor Moreira</td>\n",
       "      <td>efetivo</td>\n",
       "    </tr>\n",
       "  </tbody>\n",
       "</table>\n",
       "</div>"
      ],
      "text/plain": [
       "  circulo partido               nome     tipo\n",
       "0  Lisboa    Volt  Tiago Matos Gomes  efetivo\n",
       "1  Lisboa    Volt       Ana Carvalho  efetivo\n",
       "2  Lisboa    Volt      Miguel Macedo  efetivo\n",
       "3  Lisboa    Volt  Rebeca Gradíssimo  efetivo\n",
       "4  Lisboa    Volt      Vitor Moreira  efetivo"
      ]
     },
     "execution_count": 37,
     "metadata": {},
     "output_type": "execute_result"
    }
   ],
   "source": [
    "df1.head()"
   ]
  },
  {
   "cell_type": "code",
   "execution_count": 38,
   "id": "numeric-formula",
   "metadata": {},
   "outputs": [],
   "source": [
    "df1.replace({'Acores':'Açores', 'Santarem':'Santarém', 'Braganca':'Bragança', 'Evora':'Évora', 'Setubal':'Setúbal'}, inplace=True)"
   ]
  },
  {
   "cell_type": "code",
   "execution_count": 39,
   "id": "metropolitan-physiology",
   "metadata": {},
   "outputs": [],
   "source": [
    "df1.to_csv('Listas_Volt_format2.csv', index=False)"
   ]
  },
  {
   "cell_type": "code",
   "execution_count": null,
   "id": "polyphonic-range",
   "metadata": {},
   "outputs": [],
   "source": []
  }
 ],
 "metadata": {
  "kernelspec": {
   "display_name": "Python 3",
   "language": "python",
   "name": "python3"
  },
  "language_info": {
   "codemirror_mode": {
    "name": "ipython",
    "version": 3
   },
   "file_extension": ".py",
   "mimetype": "text/x-python",
   "name": "python",
   "nbconvert_exporter": "python",
   "pygments_lexer": "ipython3",
   "version": "3.8.8"
  }
 },
 "nbformat": 4,
 "nbformat_minor": 5
}
